{
 "cells": [
  {
   "cell_type": "code",
   "execution_count": 1,
   "metadata": {},
   "outputs": [],
   "source": [
    "import cv2\n",
    "import os\n",
    "import numpy as np\n",
    "import pandas as pd\n",
    "import warnings\n",
    "warnings.filterwarnings('ignore')"
   ]
  },
  {
   "cell_type": "markdown",
   "metadata": {},
   "source": [
    "## Dataset Preprocessing"
   ]
  },
  {
   "cell_type": "code",
   "execution_count": 2,
   "metadata": {},
   "outputs": [],
   "source": [
    "from tensorflow.keras.preprocessing.image import ImageDataGenerator"
   ]
  },
  {
   "cell_type": "code",
   "execution_count": 3,
   "metadata": {},
   "outputs": [],
   "source": [
    "image_gen = ImageDataGenerator(rotation_range=20, # rotate the image 20 degrees\n",
    "                               width_shift_range=0.10, # Shift the pic width by a max of 5%\n",
    "                               height_shift_range=0.10, # Shift the pic height by a max of 5%\n",
    "                               rescale=1/255, # Rescale the image by normalzing it.\n",
    "                               shear_range=0.1, # Shear means cutting away part of the image (max 10%)\n",
    "                               zoom_range=0.1, # Zoom in by 10% max\n",
    "                               horizontal_flip=True, # Allo horizontal flipping\n",
    "                               fill_mode='nearest' # Fill in missing pixels with the nearest filled value\n",
    "                              )"
   ]
  },
  {
   "cell_type": "code",
   "execution_count": 4,
   "metadata": {},
   "outputs": [],
   "source": [
    "train_path = \"data//train//\"\n",
    "validation_path = \"data//validation//\"\n",
    "test_path = \"data//test//\""
   ]
  },
  {
   "cell_type": "code",
   "execution_count": 5,
   "metadata": {},
   "outputs": [],
   "source": [
    "batch_size = 32\n",
    "image_shape=(200,200)"
   ]
  },
  {
   "cell_type": "code",
   "execution_count": 6,
   "metadata": {},
   "outputs": [
    {
     "name": "stdout",
     "output_type": "stream",
     "text": [
      "Found 3000 images belonging to 5 classes.\n"
     ]
    }
   ],
   "source": [
    "train_image_gen = image_gen.flow_from_directory(train_path,\n",
    "                                               target_size=image_shape[:2],\n",
    "                                                color_mode='grayscale',\n",
    "                                               batch_size=batch_size,\n",
    "                                               class_mode='categorical')"
   ]
  },
  {
   "cell_type": "code",
   "execution_count": 7,
   "metadata": {},
   "outputs": [
    {
     "name": "stdout",
     "output_type": "stream",
     "text": [
      "Found 1000 images belonging to 5 classes.\n"
     ]
    }
   ],
   "source": [
    "validation_image_gen = image_gen.flow_from_directory(validation_path,\n",
    "                                               target_size=image_shape[:2],\n",
    "                                                color_mode='grayscale',\n",
    "                                               batch_size=batch_size,\n",
    "                                               class_mode='categorical',shuffle=False)"
   ]
  },
  {
   "cell_type": "code",
   "execution_count": 8,
   "metadata": {},
   "outputs": [
    {
     "name": "stdout",
     "output_type": "stream",
     "text": [
      "Found 1000 images belonging to 5 classes.\n"
     ]
    }
   ],
   "source": [
    "test_image_gen = image_gen.flow_from_directory(test_path,\n",
    "                                               target_size=image_shape[:2],\n",
    "                                               color_mode='grayscale',\n",
    "                                               batch_size=batch_size,\n",
    "                                               class_mode='categorical',shuffle=False)"
   ]
  },
  {
   "cell_type": "code",
   "execution_count": 9,
   "metadata": {},
   "outputs": [
    {
     "data": {
      "text/plain": [
       "{'Aayush': 0, 'Kusham': 1, 'Riya': 2, 'Sahil': 3, 'Yuvraj': 4}"
      ]
     },
     "execution_count": 9,
     "metadata": {},
     "output_type": "execute_result"
    }
   ],
   "source": [
    "train_image_gen.class_indices"
   ]
  },
  {
   "cell_type": "markdown",
   "metadata": {},
   "source": [
    "# Loading Model "
   ]
  },
  {
   "cell_type": "code",
   "execution_count": 10,
   "metadata": {},
   "outputs": [],
   "source": [
    "from tensorflow.keras.models import load_model\n",
    "#model.save('Face Recognition 13.h5')\n",
    "model=load_model('Face Recognition 13.h5')"
   ]
  },
  {
   "cell_type": "code",
   "execution_count": 11,
   "metadata": {},
   "outputs": [
    {
     "data": {
      "text/plain": [
       "{'Aayush': 0, 'Kusham': 1, 'Riya': 2, 'Sahil': 3, 'Yuvraj': 4}"
      ]
     },
     "execution_count": 11,
     "metadata": {},
     "output_type": "execute_result"
    }
   ],
   "source": [
    "df=test_image_gen.class_indices\n",
    "df"
   ]
  },
  {
   "cell_type": "code",
   "execution_count": 12,
   "metadata": {},
   "outputs": [
    {
     "data": {
      "text/html": [
       "<div>\n",
       "<style scoped>\n",
       "    .dataframe tbody tr th:only-of-type {\n",
       "        vertical-align: middle;\n",
       "    }\n",
       "\n",
       "    .dataframe tbody tr th {\n",
       "        vertical-align: top;\n",
       "    }\n",
       "\n",
       "    .dataframe thead th {\n",
       "        text-align: right;\n",
       "    }\n",
       "</style>\n",
       "<table border=\"1\" class=\"dataframe\">\n",
       "  <thead>\n",
       "    <tr style=\"text-align: right;\">\n",
       "      <th></th>\n",
       "      <th>Classes</th>\n",
       "    </tr>\n",
       "  </thead>\n",
       "  <tbody>\n",
       "    <tr>\n",
       "      <th>0</th>\n",
       "      <td>Aayush</td>\n",
       "    </tr>\n",
       "    <tr>\n",
       "      <th>1</th>\n",
       "      <td>Kusham</td>\n",
       "    </tr>\n",
       "    <tr>\n",
       "      <th>2</th>\n",
       "      <td>Riya</td>\n",
       "    </tr>\n",
       "    <tr>\n",
       "      <th>3</th>\n",
       "      <td>Sahil</td>\n",
       "    </tr>\n",
       "    <tr>\n",
       "      <th>4</th>\n",
       "      <td>Yuvraj</td>\n",
       "    </tr>\n",
       "  </tbody>\n",
       "</table>\n",
       "</div>"
      ],
      "text/plain": [
       "  Classes\n",
       "0  Aayush\n",
       "1  Kusham\n",
       "2    Riya\n",
       "3   Sahil\n",
       "4  Yuvraj"
      ]
     },
     "execution_count": 12,
     "metadata": {},
     "output_type": "execute_result"
    }
   ],
   "source": [
    "keys=df.keys()\n",
    "keys=list(keys)\n",
    "keys=pd.DataFrame(keys)\n",
    "keys.rename(columns={0:'Classes'})"
   ]
  },
  {
   "cell_type": "markdown",
   "metadata": {},
   "source": [
    "# Predictions"
   ]
  },
  {
   "cell_type": "code",
   "execution_count": 13,
   "metadata": {},
   "outputs": [],
   "source": [
    "import matplotlib.pyplot as plt"
   ]
  },
  {
   "cell_type": "code",
   "execution_count": 14,
   "metadata": {},
   "outputs": [
    {
     "name": "stdout",
     "output_type": "stream",
     "text": [
      "Sahil\n"
     ]
    },
    {
     "data": {
      "image/png": "[encoded data removed]",
      "text/plain": [
       "<Figure size 432x288 with 1 Axes>"
      ]
     },
     "metadata": {
      "needs_background": "light"
     },
     "output_type": "display_data"
    }
   ],
   "source": [
    "img = 'D:\\\\python\\\\Minor Project MTech\\\\data\\\\my pic.jpeg' \n",
    "# img='D:\\\\python\\\\Minor Project MTech\\\\data\\\\a1.jpeg'\n",
    "# img='D:\\\\python\\\\Minor Project MTech\\\\data\\\\pic.jpeg'\n",
    "#img='D:\\\\python\\\\Minor Project MTech\\\\data\\\\pic1.jpeg'\n",
    "#img='D:\\\\python\\\\Minor Project MTech\\\\data\\\\pic.jpg'\n",
    "img = cv2.imread(img)\n",
    "plt.imshow(img)\n",
    "cropped_face=img\n",
    "harcascadePath = 'haarcascade_frontalface_default.xml'\n",
    "face_classifier = cv2.CascadeClassifier(harcascadePath)\n",
    "gray = cv2.cvtColor(img, cv2.COLOR_RGB2GRAY)\n",
    "faces = face_classifier.detectMultiScale(gray,1.3,5)\n",
    "        \n",
    "if faces is ():\n",
    "    print(\"Not Found\")\n",
    "for (x,y,w,h) in faces:\n",
    "    cropped_face = img[y:y+h,x:x+w]\n",
    "\n",
    "# img = cv2.resize(img,(600,600))\n",
    "# cv2.imshow(\"Input\",img)\n",
    "# key = cv2.waitKey(0)& 0xFF;\n",
    "# if key == ord(\"q\") or key == ord(\"Q\") or key==13:\n",
    "#         cv2.destroyAllWindows()\n",
    "\n",
    "cropped_face = cv2.resize(cropped_face,(200,200))\n",
    "cropped_face = cv2.cvtColor(cropped_face, cv2.COLOR_RGB2GRAY)\n",
    "cropped_face =  np.expand_dims(cropped_face, axis=0)\n",
    "cropped_face =  np.expand_dims(cropped_face, axis=-1)\n",
    "#value = model.predict_classes(cropped_face)\n",
    "value = np.argmax(model.predict(cropped_face),axis=1)\n",
    "\n",
    "#cv2.imshow(\"Crop\",cropped_face)\n",
    "#cv2.waitKey(0);\n",
    "Predicted_class = keys[0][int(value)]\n",
    "print(Predicted_class)"
   ]
  },
  {
   "cell_type": "markdown",
   "metadata": {},
   "source": [
    "# Video Prediction"
   ]
  },
  {
   "cell_type": "code",
   "execution_count": 15,
   "metadata": {},
   "outputs": [],
   "source": [
    "import imutils\n",
    "import time\n",
    "from datetime import datetime,date"
   ]
  },
  {
   "cell_type": "code",
   "execution_count": null,
   "metadata": {},
   "outputs": [],
   "source": [
    "vs = cv2.VideoCapture(0)\n",
    "time.sleep(5.0)\n",
    "harcascadePath = 'haarcascade_frontalface_default.xml'\n",
    "face_classifier = cv2.CascadeClassifier(harcascadePath)\n",
    "count=0\n",
    "previous_detect=\"\"\n",
    "Face_recog=[]\n",
    "\n",
    "while True:\n",
    "    now = datetime.now()\n",
    "    current_time = now.strftime(\"%H:%M:%S\")\n",
    "    today = date.today()\n",
    "    today = today.strftime(\"%d %B, %Y\")\n",
    "    ret,frame = vs.read()\n",
    "    frame = imutils.resize(frame, width=1200)\n",
    "    cv2.rectangle(frame, (8,50), (150, 85), (0,0,0), -1)    \n",
    "    cv2.rectangle(frame, (860,50), (1500, 90), (0,0,0), -1)\n",
    "    cv2.putText(frame, str(current_time), (10,80), cv2.FONT_HERSHEY_COMPLEX, 1, (255,255,255), 2)\n",
    "    cv2.putText(frame, str(today), (860,80), cv2.FONT_HERSHEY_COMPLEX, 1, (255,255,255), 2)\n",
    "    gray = cv2.cvtColor(frame, cv2.COLOR_BGR2GRAY)\n",
    "    faces = face_classifier.detectMultiScale(gray,1.3,5)\n",
    "    for (x, y, w, h) in faces:\n",
    "        cropped_face = frame[y:y+h,x:x+w]\n",
    "        cv2.rectangle(frame, (x, y), (x + w, y + h), (0, 255, 0), 2)\n",
    "        cropped_face = cv2.resize(cropped_face,(200,200))\n",
    "        cropped_face = cv2.cvtColor(cropped_face, cv2.COLOR_RGB2GRAY)\n",
    "        cropped_face =  np.expand_dims(cropped_face, axis=0)\n",
    "        cropped_face =  np.expand_dims(cropped_face, axis=-1)\n",
    "        \n",
    "        #value = model.predict_classes(cropped_face)\n",
    "        value = np.argmax(model.predict(cropped_face),axis=1)\n",
    "        Predicted_class = keys[0][int(value)]\n",
    "        \n",
    "        cv2.rectangle(frame, (x-1, y+h+1), (x + w, y+h+40), (0, 255, 0), -1)\n",
    "        cv2.putText(frame, Predicted_class, (x+10,y+h+30), cv2.FONT_HERSHEY_COMPLEX, 1, (255,255,255), 2)\n",
    "        \n",
    "        if Predicted_class == previous_detect:\n",
    "            count+=1\n",
    "        else:\n",
    "            count=0\n",
    "            previous_detect = Predicted_class\n",
    "            \n",
    "        if count==20:\n",
    "            if (Predicted_class not in Face_recog):\n",
    "                print(Predicted_class,\"@\",current_time,\"@\",today)\n",
    "                Face_recog.append(Predicted_class)\n",
    "                \n",
    "    cv2.imshow(\"Face Cam\", frame)\n",
    "    key = cv2.waitKey(1) & 0xFF\n",
    "\n",
    "    if key == ord(\"q\") or key == ord(\"Q\") or key==13:\n",
    "        break\n",
    "vs.release()\n",
    "cv2.destroyAllWindows()"
   ]
  },
  {
   "cell_type": "markdown",
   "metadata": {},
   "source": [
    "# Attendance"
   ]
  },
  {
   "cell_type": "code",
   "execution_count": null,
   "metadata": {},
   "outputs": [],
   "source": [
    "Attendance_df = pd.read_csv(\"D:\\\\python\\\\Minor Project MTech\\\\Attendance\\\\Attendance.csv\")\n",
    "today = date.today()\n",
    "today = today.strftime(\"%d-%b-%y\")\n",
    "present=[]\n",
    "i=0\n",
    "for name in Attendance_df['Name']:\n",
    "    if name in Face_recog:\n",
    "        present.append(1)\n",
    "    else :\n",
    "        present.append(0)\n",
    "if today not in Attendance_df.columns:\n",
    "    today = date.today()\n",
    "    today = today.strftime(\"%d-%b-%Y\")\n",
    "    df=pd.DataFrame({today : present})\n",
    "    result = pd.concat([Attendance_df.iloc[:,:-2],df,Attendance_df.iloc[:,-2:]], axis=1, join='inner')\n",
    "    result['Total Attendance'] = result.iloc[:,3:-2].sum(axis=1)\n",
    "    result['Attendance Percentage'] = round(result['Total Attendance']/(len(result.columns)-5)*100,2)\n",
    "    result.to_csv ('D:\\\\python\\\\Minor Project MTech\\\\Attendance\\\\Attendance.csv', index = False, header=True)\n",
    "    display(result)\n",
    "else:\n",
    "    for n in present:\n",
    "        if(n==1):\n",
    "            Attendance_df[today][i]=1\n",
    "        i+=1\n",
    "    Attendance_df['Total Attendance'] = Attendance_df.iloc[:,3:-2].sum(axis=1)\n",
    "    Attendance_df['Attendance Percentage'] = round(Attendance_df['Total Attendance']/(len(Attendance_df.columns)-5)*100,2)\n",
    "    Attendance_df.to_csv ('D:\\\\python\\\\Minor Project MTech\\\\Attendance\\\\Attendance.csv', index = False, header=True)\n",
    "    display(Attendance_df)"
   ]
  },
  {
   "cell_type": "markdown",
   "metadata": {},
   "source": [
    "# Email Notifications"
   ]
  },
  {
   "cell_type": "code",
   "execution_count": 42,
   "metadata": {},
   "outputs": [],
   "source": [
    "#imports required\n",
    "import yagmail"
   ]
  },
  {
   "cell_type": "markdown",
   "metadata": {},
   "source": [
    "### i) Sending CSV File"
   ]
  },
  {
   "cell_type": "code",
   "execution_count": 43,
   "metadata": {},
   "outputs": [
    {
     "name": "stdout",
     "output_type": "stream",
     "text": [
      "Attendance CSV file forwarded to teacher\n"
     ]
    }
   ],
   "source": [
    "receiver = \"kpssahiljasrotia@gmail.com\"\n",
    "body = \"Please find the attanchment of attendance record upto \"+today\n",
    "filename = \"D:\\\\python\\\\Minor Project MTech\\\\Attendance\\\\Attendance.csv\"\n",
    "\n",
    "yag = yagmail.SMTP(\"cocsahiljasrotia@gmail.com\")\n",
    "yag.send(\n",
    "    to=receiver,\n",
    "    subject=\"Class Attendance\",\n",
    "    contents=body, \n",
    "     attachments=filename  \n",
    ")\n",
    "\n",
    "print(f\"Attendance CSV file forwarded to teacher\")"
   ]
  },
  {
   "cell_type": "markdown",
   "metadata": {},
   "source": [
    "### ii) Sending Email Notifications to Absentees' Parents"
   ]
  },
  {
   "cell_type": "code",
   "execution_count": 44,
   "metadata": {},
   "outputs": [
    {
     "name": "stdout",
     "output_type": "stream",
     "text": [
      "Absence reported to Riya's Parents.\n",
      "Absence reported to Yuvraj's Parents.\n"
     ]
    }
   ],
   "source": [
    "i=0\n",
    "for presence in Attendance_df[today]:\n",
    "    if(presence==0):\n",
    "        Name = Attendance_df['Name'][i]\n",
    "        receiver = Attendance_df['Email'][i]\n",
    "        Percentage = Attendance_df['Attendance Percentage'][i]\n",
    "        body = f\"Your ward {Name} was absent from today's lecture. \\n\\n {Name}'s current attendance is {Percentage}%. \\n\\n Please be concerned regarding your child's attendance as we will not be able to consider any excuse if he/she failed to maintain the minimum criteria.\"\n",
    "\n",
    "        yag = yagmail.SMTP(\"cocsahiljasrotia@gmail.com\")\n",
    "        yag.send(\n",
    "            to=receiver,\n",
    "            subject=f\"Attendance of {Name}\",\n",
    "            contents=body\n",
    "        )\n",
    "        \n",
    "        print(f\"Absence reported to {Name}'s Parents.\")\n",
    "\n",
    "    i+=1"
   ]
  },
  {
   "cell_type": "markdown",
   "metadata": {},
   "source": [
    "# Thankyou!!"
   ]
  }
 ],
 "metadata": {
  "kernelspec": {
   "display_name": "Python 3 (ipykernel)",
   "language": "python",
   "name": "python3"
  },
  "language_info": {
   "codemirror_mode": {
    "name": "ipython",
    "version": 3
   },
   "file_extension": ".py",
   "mimetype": "text/x-python",
   "name": "python",
   "nbconvert_exporter": "python",
   "pygments_lexer": "ipython3",
   "version": "3.9.7"
  }
 },
 "nbformat": 4,
 "nbformat_minor": 4
}
